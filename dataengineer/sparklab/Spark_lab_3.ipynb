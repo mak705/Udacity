{
 "cells": [
  {
   "cell_type": "markdown",
   "id": "b0ced985",
   "metadata": {},
   "source": [
    "## Continuation of spark_lab_2"
   ]
  },
  {
   "cell_type": "code",
   "execution_count": 1,
   "id": "a95aa411",
   "metadata": {},
   "outputs": [
    {
     "name": "stderr",
     "output_type": "stream",
     "text": [
      "23/08/10 07:04:24 WARN Utils: Your hostname, Makbuls-MacBook-Air.local resolves to a loopback address: 127.0.0.1; using 10.10.30.219 instead (on interface en0)\n",
      "23/08/10 07:04:24 WARN Utils: Set SPARK_LOCAL_IP if you need to bind to another address\n",
      "Setting default log level to \"WARN\".\n",
      "To adjust logging level use sc.setLogLevel(newLevel). For SparkR, use setLogLevel(newLevel).\n",
      "23/08/10 07:04:25 WARN NativeCodeLoader: Unable to load native-hadoop library for your platform... using builtin-java classes where applicable\n",
      "23/08/10 07:04:26 WARN Utils: Service 'SparkUI' could not bind on port 4040. Attempting port 4041.\n",
      "                                                                                \r"
     ]
    }
   ],
   "source": [
    "# Which page did user id \"\" (empty string) NOT visit?\n",
    "\n",
    "# Data Wrangling User Logs\n",
    "from pyspark.sql import SparkSession\n",
    "from pyspark.sql.functions import udf\n",
    "from pyspark.sql.types import StringType\n",
    "from pyspark.sql.types import IntegerType\n",
    "from pyspark.sql.functions import desc\n",
    "from pyspark.sql.functions import asc\n",
    "from pyspark.sql.functions import sum as Fsum\n",
    "\n",
    "import datetime\n",
    "\n",
    "import numpy as np\n",
    "import pandas as pd\n",
    "import matplotlib.pyplot as plt\n",
    "spark = SparkSession \\\n",
    "    .builder \\\n",
    "    .appName(\"Wrangling Data Quiz\") \\\n",
    "    .getOrCreate()\n",
    "path = \"/Users/makbulhussain/Downloads/sparkify_log_small.json\"\n",
    "user_log = spark.read.json(path)\n"
   ]
  },
  {
   "cell_type": "code",
   "execution_count": 13,
   "id": "a9dd457c",
   "metadata": {},
   "outputs": [
    {
     "name": "stdout",
     "output_type": "stream",
     "text": [
      "+-----------+\n",
      "|blank_pages|\n",
      "+-----------+\n",
      "|       Home|\n",
      "|      About|\n",
      "|      Login|\n",
      "|       Help|\n",
      "+-----------+\n",
      "\n"
     ]
    }
   ],
   "source": [
    "# using sql syntax\n",
    "user_log.createOrReplaceTempView(\"user_log\")\n",
    "# Equivalent SQL query\n",
    "\n",
    "# filter for users with blank user id\n",
    "\n",
    "sql_query = \"\"\"\n",
    "    SELECT DISTINCT page AS blank_pages\n",
    "    FROM user_log\n",
    "    WHERE userId = ''\n",
    "\"\"\"\n",
    "\n",
    "# Execute the SQL query\n",
    "result = spark.sql(sql_query)\n",
    "\n",
    "# Show the result\n",
    "result.show()"
   ]
  },
  {
   "cell_type": "code",
   "execution_count": 9,
   "id": "ba40ac9e",
   "metadata": {},
   "outputs": [],
   "source": [
    "from pyspark.sql.functions import col, desc, udf, col"
   ]
  },
  {
   "cell_type": "code",
   "execution_count": 10,
   "id": "ab8d6c2d",
   "metadata": {},
   "outputs": [],
   "source": [
    "blank_pages_df = user_log.filter(user_log.userId == '') \\\n",
    "    .select(col('page') \\\n",
    "    .alias('blank_pages')) \\\n",
    "    .dropDuplicates()"
   ]
  },
  {
   "cell_type": "code",
   "execution_count": 11,
   "id": "61772d3c",
   "metadata": {},
   "outputs": [
    {
     "name": "stdout",
     "output_type": "stream",
     "text": [
      "+-----------+\n",
      "|blank_pages|\n",
      "+-----------+\n",
      "|       Home|\n",
      "|      About|\n",
      "|      Login|\n",
      "|       Help|\n",
      "+-----------+\n",
      "\n"
     ]
    }
   ],
   "source": [
    "blank_pages_df.show()"
   ]
  },
  {
   "cell_type": "code",
   "execution_count": 20,
   "id": "e6844e1b",
   "metadata": {},
   "outputs": [
    {
     "name": "stdout",
     "output_type": "stream",
     "text": [
      "+-----------+-----+\n",
      "|blank_pages|count|\n",
      "+-----------+-----+\n",
      "|       Home|  187|\n",
      "|      Login|  126|\n",
      "|      About|   15|\n",
      "|       Help|    8|\n",
      "+-----------+-----+\n",
      "\n"
     ]
    }
   ],
   "source": [
    "# What type of user does the empty string user id most likely refer to?\n",
    "\n",
    "sql_query = \"\"\"\n",
    "    SELECT DISTINCT page AS blank_pages, count(*) as count\n",
    "    FROM user_log\n",
    "    WHERE userId = '' \n",
    "GROUP BY blank_pages\n",
    "order by count desc\n",
    "\"\"\"\n",
    "\n",
    "# Execute the SQL query\n",
    "result = spark.sql(sql_query)\n",
    "\n",
    "# Show the result\n",
    "result.show()"
   ]
  },
  {
   "cell_type": "code",
   "execution_count": 29,
   "id": "1405e902",
   "metadata": {},
   "outputs": [
    {
     "name": "stdout",
     "output_type": "stream",
     "text": [
      "+----------------------+\n",
      "|count(DISTINCT userId)|\n",
      "+----------------------+\n",
      "|                   462|\n",
      "+----------------------+\n",
      "\n"
     ]
    }
   ],
   "source": [
    "# How many female users do we have in the data set?\n",
    "\n",
    "sql_query = \"\"\"\n",
    "    SELECT COUNT(DISTINCT userId)\n",
    "FROM user_log\n",
    "WHERE gender = 'F'\n",
    "\n",
    "\"\"\"\n",
    "\n",
    "# Execute the SQL query\n",
    "result = spark.sql(sql_query)\n",
    "\n",
    "# Show the result\n",
    "result.show()\n"
   ]
  },
  {
   "cell_type": "code",
   "execution_count": 32,
   "id": "fad58d0e",
   "metadata": {},
   "outputs": [
    {
     "name": "stdout",
     "output_type": "stream",
     "text": [
      "+-------------+---------+\n",
      "|       Artist|Playcount|\n",
      "+-------------+---------+\n",
      "|     Coldplay|       83|\n",
      "|Kings Of Leon|       69|\n",
      "+-------------+---------+\n",
      "\n"
     ]
    }
   ],
   "source": [
    "# How many songs were played from the most played artist?\n",
    "\n",
    "\n",
    "sql_query = \"\"\"\n",
    "    SELECT Artist, COUNT(Artist) AS Playcount\n",
    "FROM user_log\n",
    "WHERE page = 'NextSong'\n",
    "GROUP BY Artist\n",
    "ORDER BY Playcount DESC\n",
    "LIMIT 2\n",
    "\n",
    "\n",
    "\"\"\"\n",
    "\n",
    "# Execute the SQL query\n",
    "result = spark.sql(sql_query)\n",
    "\n",
    "# Show the result\n",
    "result.show()\n"
   ]
  },
  {
   "cell_type": "code",
   "execution_count": 34,
   "id": "7516e99b",
   "metadata": {},
   "outputs": [
    {
     "name": "stdout",
     "output_type": "stream",
     "text": [
      "+--------+---------+\n",
      "|  Artist|Playcount|\n",
      "+--------+---------+\n",
      "|Coldplay|       83|\n",
      "+--------+---------+\n",
      "only showing top 1 row\n",
      "\n"
     ]
    }
   ],
   "source": [
    "user_log.filter(user_log.page == 'NextSong') \\\n",
    "    .select('Artist') \\\n",
    "    .groupBy('Artist') \\\n",
    "    .agg({'Artist':'count'}) \\\n",
    "    .withColumnRenamed('count(Artist)', 'Playcount') \\\n",
    "    .sort(desc('Playcount')) \\\n",
    "    .show(1)"
   ]
  },
  {
   "cell_type": "code",
   "execution_count": 44,
   "id": "f12b2e1b",
   "metadata": {},
   "outputs": [
    {
     "data": {
      "text/plain": [
       "[Row(userID='', page='Home', ts=1513846494284, homevisit=1, period=1),\n",
       " Row(userID='', page='Home', ts=1513845761284, homevisit=1, period=2),\n",
       " Row(userID='', page='Home', ts=1513845132284, homevisit=1, period=3)]"
      ]
     },
     "execution_count": 44,
     "metadata": {},
     "output_type": "execute_result"
    }
   ],
   "source": [
    "# How many songs do users listen to on average between visiting our home page? \n",
    "# Please round your answer to the closest integer.\n",
    "from pyspark.sql.functions import sum as Fsum\n",
    "from pyspark.sql.window import Window\n",
    "\n",
    "user_window = Window \\\n",
    "    .partitionBy('userID') \\\n",
    "    .orderBy(desc('ts')) \\\n",
    "    .rangeBetween(Window.unboundedPreceding, 0)\n",
    "\n",
    "ishome = udf(lambda ishome : int(ishome == 'Home'), IntegerType())\n",
    "\n",
    "# Filter only NextSong and Home pages, add 1 for each time they visit Home\n",
    "# Adding a column called period which is a specific interval between Home visits\n",
    "cusum = user_log.filter((user_log.page == 'NextSong') | (user_log.page == 'Home')) \\\n",
    "    .select('userID', 'page', 'ts') \\\n",
    "    .withColumn('homevisit', ishome(col('page'))) \\\n",
    "    .withColumn('period', Fsum('homevisit') \\\n",
    "    .over(user_window)) \n",
    "    \n",
    "cusum.take(3)"
   ]
  },
  {
   "cell_type": "code",
   "execution_count": 38,
   "id": "c1d0eec1",
   "metadata": {},
   "outputs": [
    {
     "name": "stderr",
     "output_type": "stream",
     "text": [
      "[Stage 69:=============================>                            (1 + 1) / 2]\r"
     ]
    },
    {
     "name": "stdout",
     "output_type": "stream",
     "text": [
      "+------+--------+-------------+---------+------+\n",
      "|userID|    page|           ts|homevisit|period|\n",
      "+------+--------+-------------+---------+------+\n",
      "|      |    Home|1513846494284|        1|     1|\n",
      "|      |    Home|1513845761284|        1|     2|\n",
      "|      |    Home|1513845132284|        1|     3|\n",
      "|      |    Home|1513845055284|        1|     4|\n",
      "|      |    Home|1513844251284|        1|     5|\n",
      "|      |    Home|1513844026284|        1|     6|\n",
      "|      |    Home|1513843602284|        1|     7|\n",
      "|      |    Home|1513843098284|        1|     8|\n",
      "|      |    Home|1513842367284|        1|     9|\n",
      "|      |    Home|1513841138284|        1|    10|\n",
      "|      |    Home|1513841121284|        1|    11|\n",
      "|      |    Home|1513839824284|        1|    12|\n",
      "|      |    Home|1513838865284|        1|    13|\n",
      "|      |    Home|1513838857284|        1|    14|\n",
      "|      |    Home|1513838835284|        1|    15|\n",
      "|      |    Home|1513838141284|        1|    16|\n",
      "|      |    Home|1513838110284|        1|    17|\n",
      "|      |    Home|1513836104284|        1|    18|\n",
      "|      |    Home|1513835948284|        1|    19|\n",
      "|      |    Home|1513835945284|        1|    20|\n",
      "|      |    Home|1513835587284|        1|    21|\n",
      "|      |    Home|1513834216284|        1|    22|\n",
      "|      |    Home|1513832509284|        1|    23|\n",
      "|      |    Home|1513831850284|        1|    24|\n",
      "|      |    Home|1513831714284|        1|    25|\n",
      "|      |    Home|1513831585284|        1|    26|\n",
      "|      |    Home|1513830655284|        1|    27|\n",
      "|      |    Home|1513830380284|        1|    28|\n",
      "|      |    Home|1513829956284|        1|    29|\n",
      "|      |    Home|1513829767284|        1|    30|\n",
      "|      |    Home|1513827843284|        1|    31|\n",
      "|      |    Home|1513824819284|        1|    32|\n",
      "|      |    Home|1513822243284|        1|    33|\n",
      "|      |    Home|1513821606284|        1|    34|\n",
      "|      |    Home|1513820683284|        1|    35|\n",
      "|      |    Home|1513820259284|        1|    36|\n",
      "|      |    Home|1513819932284|        1|    37|\n",
      "|      |    Home|1513818200284|        1|    38|\n",
      "|      |    Home|1513818158284|        1|    39|\n",
      "|      |    Home|1513818069284|        1|    40|\n",
      "|      |    Home|1513817608284|        1|    41|\n",
      "|      |    Home|1513817372284|        1|    42|\n",
      "|      |    Home|1513817216284|        1|    43|\n",
      "|      |    Home|1513817057284|        1|    44|\n",
      "|      |    Home|1513815104284|        1|    45|\n",
      "|      |    Home|1513815100284|        1|    46|\n",
      "|      |    Home|1513814961284|        1|    47|\n",
      "|      |    Home|1513814246284|        1|    48|\n",
      "|      |    Home|1513813017284|        1|    49|\n",
      "|      |    Home|1513811493284|        1|    50|\n",
      "|      |    Home|1513811017284|        1|    51|\n",
      "|      |    Home|1513809385284|        1|    52|\n",
      "|      |    Home|1513807415284|        1|    53|\n",
      "|      |    Home|1513807378284|        1|    54|\n",
      "|      |    Home|1513807374284|        1|    55|\n",
      "|      |    Home|1513806562284|        1|    56|\n",
      "|      |    Home|1513805351284|        1|    57|\n",
      "|      |    Home|1513805041284|        1|    58|\n",
      "|      |    Home|1513802534284|        1|    59|\n",
      "|      |    Home|1513800849284|        1|    60|\n",
      "|      |    Home|1513799950284|        1|    61|\n",
      "|      |    Home|1513799226284|        1|    62|\n",
      "|      |    Home|1513798398284|        1|    63|\n",
      "|      |    Home|1513797083284|        1|    64|\n",
      "|      |    Home|1513795174284|        1|    65|\n",
      "|      |    Home|1513794895284|        1|    66|\n",
      "|      |    Home|1513794548284|        1|    67|\n",
      "|      |    Home|1513792808284|        1|    68|\n",
      "|      |    Home|1513792774284|        1|    69|\n",
      "|      |    Home|1513792628284|        1|    70|\n",
      "|      |    Home|1513792338284|        1|    71|\n",
      "|      |    Home|1513791898284|        1|    72|\n",
      "|      |    Home|1513790743284|        1|    73|\n",
      "|      |    Home|1513790254284|        1|    74|\n",
      "|      |    Home|1513790242284|        1|    75|\n",
      "|      |    Home|1513789890284|        1|    76|\n",
      "|      |    Home|1513789276284|        1|    77|\n",
      "|      |    Home|1513789234284|        1|    78|\n",
      "|      |    Home|1513787991284|        1|    79|\n",
      "|      |    Home|1513787722284|        1|    80|\n",
      "|      |    Home|1513787306284|        1|    81|\n",
      "|      |    Home|1513786862284|        1|    82|\n",
      "|      |    Home|1513786854284|        1|    83|\n",
      "|      |    Home|1513786713284|        1|    84|\n",
      "|      |    Home|1513786568284|        1|    85|\n",
      "|      |    Home|1513786150284|        1|    86|\n",
      "|      |    Home|1513785743284|        1|    87|\n",
      "|      |    Home|1513785591284|        1|    88|\n",
      "|      |    Home|1513785061284|        1|    89|\n",
      "|      |    Home|1513784902284|        1|    90|\n",
      "|      |    Home|1513784558284|        1|    91|\n",
      "|      |    Home|1513784350284|        1|    92|\n",
      "|      |    Home|1513784144284|        1|    93|\n",
      "|      |    Home|1513783285284|        1|    94|\n",
      "|      |    Home|1513782378284|        1|    95|\n",
      "|      |    Home|1513781616284|        1|    96|\n",
      "|      |    Home|1513781126284|        1|    97|\n",
      "|      |    Home|1513781058284|        1|    98|\n",
      "|      |    Home|1513781039284|        1|    99|\n",
      "|      |    Home|1513781022284|        1|   100|\n",
      "|      |    Home|1513780922284|        1|   101|\n",
      "|      |    Home|1513780764284|        1|   102|\n",
      "|      |    Home|1513780570284|        1|   103|\n",
      "|      |    Home|1513780420284|        1|   104|\n",
      "|      |    Home|1513780261284|        1|   105|\n",
      "|      |    Home|1513780092284|        1|   106|\n",
      "|      |    Home|1513779933284|        1|   107|\n",
      "|      |    Home|1513779863284|        1|   108|\n",
      "|      |    Home|1513779748284|        1|   109|\n",
      "|      |    Home|1513779396284|        1|   110|\n",
      "|      |    Home|1513778431284|        1|   111|\n",
      "|      |    Home|1513778395284|        1|   112|\n",
      "|      |    Home|1513778146284|        1|   113|\n",
      "|      |    Home|1513777617284|        1|   114|\n",
      "|      |    Home|1513777486284|        1|   115|\n",
      "|      |    Home|1513777279284|        1|   116|\n",
      "|      |    Home|1513776651284|        1|   117|\n",
      "|      |    Home|1513776079284|        1|   118|\n",
      "|      |    Home|1513775942284|        1|   119|\n",
      "|      |    Home|1513775858284|        1|   120|\n",
      "|      |    Home|1513775364284|        1|   121|\n",
      "|      |    Home|1513775164284|        1|   122|\n",
      "|      |    Home|1513775108284|        1|   123|\n",
      "|      |    Home|1513775107284|        1|   124|\n",
      "|      |    Home|1513774089284|        1|   125|\n",
      "|      |    Home|1513772841284|        1|   126|\n",
      "|      |    Home|1513771072284|        1|   127|\n",
      "|      |    Home|1513771013284|        1|   128|\n",
      "|      |    Home|1513770563284|        1|   129|\n",
      "|      |    Home|1513770311284|        1|   130|\n",
      "|      |    Home|1513769591284|        1|   131|\n",
      "|      |    Home|1513767000284|        1|   132|\n",
      "|      |    Home|1513766304284|        1|   133|\n",
      "|      |    Home|1513764939284|        1|   134|\n",
      "|      |    Home|1513764513284|        1|   135|\n",
      "|      |    Home|1513764034284|        1|   136|\n",
      "|      |    Home|1513763741284|        1|   137|\n",
      "|      |    Home|1513763662284|        1|   138|\n",
      "|      |    Home|1513763025284|        1|   139|\n",
      "|      |    Home|1513762196284|        1|   140|\n",
      "|      |    Home|1513760813284|        1|   141|\n",
      "|      |    Home|1513760099284|        1|   142|\n",
      "|      |    Home|1513758729284|        1|   143|\n",
      "|      |    Home|1513757790284|        1|   144|\n",
      "|      |    Home|1513757589284|        1|   145|\n",
      "|      |    Home|1513751450284|        1|   146|\n",
      "|      |    Home|1513751311284|        1|   147|\n",
      "|      |    Home|1513751234284|        1|   148|\n",
      "|      |    Home|1513750875284|        1|   149|\n",
      "|      |    Home|1513750618284|        1|   150|\n",
      "|      |    Home|1513748217284|        1|   151|\n",
      "|      |    Home|1513747529284|        1|   152|\n",
      "|      |    Home|1513747001284|        1|   153|\n",
      "|      |    Home|1513746674284|        1|   154|\n",
      "|      |    Home|1513746594284|        1|   155|\n",
      "|      |    Home|1513746544284|        1|   156|\n",
      "|      |    Home|1513746353284|        1|   157|\n",
      "|      |    Home|1513746331284|        1|   158|\n",
      "|      |    Home|1513746313284|        1|   159|\n",
      "|      |    Home|1513745727284|        1|   160|\n",
      "|      |    Home|1513745516284|        1|   161|\n",
      "|      |    Home|1513743807284|        1|   162|\n",
      "|      |    Home|1513742804284|        1|   163|\n",
      "|      |    Home|1513742458284|        1|   164|\n",
      "|      |    Home|1513742384284|        1|   165|\n",
      "|      |    Home|1513741997284|        1|   166|\n",
      "|      |    Home|1513738847284|        1|   167|\n",
      "|      |    Home|1513737804284|        1|   168|\n",
      "|      |    Home|1513736560284|        1|   169|\n",
      "|      |    Home|1513736082284|        1|   170|\n",
      "|      |    Home|1513735959284|        1|   171|\n",
      "|      |    Home|1513734883284|        1|   172|\n",
      "|      |    Home|1513733637284|        1|   173|\n",
      "|      |    Home|1513731834284|        1|   174|\n",
      "|      |    Home|1513731277284|        1|   175|\n",
      "|      |    Home|1513731045284|        1|   176|\n",
      "|      |    Home|1513730953284|        1|   177|\n",
      "|      |    Home|1513730621284|        1|   178|\n",
      "|      |    Home|1513730128284|        1|   179|\n",
      "|      |    Home|1513729762284|        1|   180|\n",
      "|      |    Home|1513729376284|        1|   181|\n",
      "|      |    Home|1513729051284|        1|   182|\n",
      "|      |    Home|1513724530284|        1|   183|\n",
      "|      |    Home|1513724475284|        1|   184|\n",
      "|      |    Home|1513723183284|        1|   185|\n",
      "|      |    Home|1513722009284|        1|   186|\n",
      "|      |    Home|1513721274284|        1|   187|\n",
      "|    10|NextSong|1513828388284|        0|     0|\n",
      "|    10|NextSong|1513790894284|        0|     0|\n",
      "|   100|    Home|1513839673284|        1|     1|\n",
      "|   100|NextSong|1513776308284|        0|     1|\n",
      "|   100|    Home|1513776194284|        1|     2|\n",
      "|   100|NextSong|1513775710284|        0|     2|\n",
      "|   100|NextSong|1513775556284|        0|     2|\n",
      "|   100|    Home|1513775431284|        1|     3|\n",
      "|   100|NextSong|1513750442284|        0|     3|\n",
      "|   100|NextSong|1513750214284|        0|     3|\n",
      "|  1000|NextSong|1513720878284|        0|     0|\n",
      "|  1003|    Home|1513749525284|        1|     1|\n",
      "|  1003|NextSong|1513749516284|        0|     1|\n",
      "|  1003|    Home|1513749501284|        1|     2|\n",
      "|  1005|NextSong|1513782278284|        0|     0|\n",
      "|  1006|NextSong|1513774019284|        0|     0|\n",
      "|  1006|NextSong|1513773777284|        0|     0|\n",
      "|  1006|NextSong|1513773548284|        0|     0|\n",
      "|  1017|NextSong|1513822643284|        0|     0|\n",
      "|  1017|    Home|1513822400284|        1|     1|\n",
      "|  1017|NextSong|1513821682284|        0|     1|\n",
      "|  1017|NextSong|1513821424284|        0|     1|\n",
      "|  1017|NextSong|1513821152284|        0|     1|\n",
      "|  1017|    Home|1513820906284|        1|     2|\n",
      "|  1017|NextSong|1513819172284|        0|     2|\n",
      "|  1017|NextSong|1513818931284|        0|     2|\n",
      "|  1017|NextSong|1513818718284|        0|     2|\n",
      "|  1017|NextSong|1513818488284|        0|     2|\n",
      "|  1017|NextSong|1513818023284|        0|     2|\n",
      "|  1017|NextSong|1513817806284|        0|     2|\n",
      "|  1019|NextSong|1513830645284|        0|     0|\n",
      "|  1019|NextSong|1513830459284|        0|     0|\n",
      "|  1019|NextSong|1513830220284|        0|     0|\n",
      "|  1019|NextSong|1513830061284|        0|     0|\n",
      "|  1019|NextSong|1513829839284|        0|     0|\n",
      "|  1019|NextSong|1513829613284|        0|     0|\n",
      "|  1019|NextSong|1513829218284|        0|     0|\n",
      "|  1019|NextSong|1513828949284|        0|     0|\n",
      "|  1019|NextSong|1513828654284|        0|     0|\n",
      "|  1019|NextSong|1513828389284|        0|     0|\n",
      "|  1019|NextSong|1513828147284|        0|     0|\n",
      "|  1019|NextSong|1513827978284|        0|     0|\n",
      "|  1019|NextSong|1513827810284|        0|     0|\n",
      "|  1019|NextSong|1513827346284|        0|     0|\n",
      "|  1019|NextSong|1513827155284|        0|     0|\n",
      "|  1019|NextSong|1513826963284|        0|     0|\n",
      "|  1019|    Home|1513826961284|        1|     1|\n",
      "|  1019|    Home|1513797224284|        1|     2|\n",
      "|  1019|NextSong|1513791897284|        0|     2|\n",
      "|  1019|NextSong|1513791702284|        0|     2|\n",
      "|  1019|NextSong|1513791267284|        0|     2|\n",
      "|  1019|    Home|1513791259284|        1|     3|\n",
      "|  1019|NextSong|1513747160284|        0|     3|\n",
      "|  1019|NextSong|1513746941284|        0|     3|\n",
      "|  1019|NextSong|1513746344284|        0|     3|\n",
      "|  1019|    Home|1513746335284|        1|     4|\n",
      "|  1019|    Home|1513746328284|        1|     5|\n",
      "|  1020|NextSong|1513742173284|        0|     0|\n",
      "|  1020|NextSong|1513742096284|        0|     0|\n",
      "|  1020|NextSong|1513741834284|        0|     0|\n",
      "|  1020|NextSong|1513741612284|        0|     0|\n",
      "|  1020|    Home|1513741324284|        1|     1|\n",
      "|  1022|NextSong|1513767004284|        0|     0|\n",
      "|  1022|NextSong|1513766963284|        0|     0|\n",
      "|  1025|    Home|1513788604284|        1|     1|\n",
      "|  1025|NextSong|1513746819284|        0|     1|\n",
      "|  1025|NextSong|1513746589284|        0|     1|\n",
      "|  1025|NextSong|1513746334284|        0|     1|\n",
      "|  1025|NextSong|1513746207284|        0|     1|\n",
      "|  1030|NextSong|1513778378284|        0|     0|\n",
      "|  1035|NextSong|1513826206284|        0|     0|\n",
      "|  1035|NextSong|1513825983284|        0|     0|\n",
      "|  1035|NextSong|1513825608284|        0|     0|\n",
      "|  1035|NextSong|1513825319284|        0|     0|\n",
      "|  1035|NextSong|1513824943284|        0|     0|\n",
      "|  1035|NextSong|1513824657284|        0|     0|\n",
      "|  1035|NextSong|1513824498284|        0|     0|\n",
      "|  1035|NextSong|1513824269284|        0|     0|\n",
      "|  1035|NextSong|1513824101284|        0|     0|\n",
      "|  1035|NextSong|1513823890284|        0|     0|\n",
      "|  1035|NextSong|1513823676284|        0|     0|\n",
      "|  1035|NextSong|1513823370284|        0|     0|\n",
      "|  1035|NextSong|1513823166284|        0|     0|\n",
      "|  1035|NextSong|1513822898284|        0|     0|\n",
      "|  1035|NextSong|1513822579284|        0|     0|\n",
      "|  1035|NextSong|1513822379284|        0|     0|\n",
      "|  1035|NextSong|1513822174284|        0|     0|\n",
      "|  1035|NextSong|1513821897284|        0|     0|\n",
      "|  1035|NextSong|1513821699284|        0|     0|\n",
      "|  1035|NextSong|1513821537284|        0|     0|\n",
      "|  1035|NextSong|1513821425284|        0|     0|\n",
      "|  1035|NextSong|1513821224284|        0|     0|\n",
      "|  1035|NextSong|1513820933284|        0|     0|\n",
      "|  1035|NextSong|1513820738284|        0|     0|\n",
      "|  1035|NextSong|1513820515284|        0|     0|\n",
      "|  1035|NextSong|1513820321284|        0|     0|\n",
      "|  1035|NextSong|1513820092284|        0|     0|\n",
      "|  1035|NextSong|1513819851284|        0|     0|\n",
      "|  1035|NextSong|1513819506284|        0|     0|\n",
      "|  1035|NextSong|1513819284284|        0|     0|\n",
      "|  1035|NextSong|1513819080284|        0|     0|\n",
      "|  1035|    Home|1513818818284|        1|     1|\n",
      "|  1035|NextSong|1513818812284|        0|     1|\n",
      "|  1035|NextSong|1513818157284|        0|     1|\n",
      "|  1035|NextSong|1513817765284|        0|     1|\n",
      "|  1035|NextSong|1513817520284|        0|     1|\n",
      "|  1035|NextSong|1513817292284|        0|     1|\n",
      "|  1035|NextSong|1513817062284|        0|     1|\n",
      "|  1035|NextSong|1513816925284|        0|     1|\n",
      "|  1035|NextSong|1513816706284|        0|     1|\n",
      "|  1035|NextSong|1513816504284|        0|     1|\n",
      "|  1035|NextSong|1513816156284|        0|     1|\n",
      "|  1035|NextSong|1513815960284|        0|     1|\n",
      "+------+--------+-------------+---------+------+\n",
      "only showing top 300 rows\n",
      "\n"
     ]
    },
    {
     "name": "stderr",
     "output_type": "stream",
     "text": [
      "                                                                                \r"
     ]
    }
   ],
   "source": [
    "# This will only show 'Home' in the first several rows due to default sorting\n",
    "\n",
    "cusum.show(300)"
   ]
  },
  {
   "cell_type": "code",
   "execution_count": 39,
   "id": "371905c3",
   "metadata": {},
   "outputs": [
    {
     "name": "stdout",
     "output_type": "stream",
     "text": [
      "+------------------+\n",
      "|avg(count(period))|\n",
      "+------------------+\n",
      "| 6.898347107438017|\n",
      "+------------------+\n",
      "\n"
     ]
    }
   ],
   "source": [
    "# See how many songs were listened to on average during each period\n",
    "cusum.filter((cusum.page == 'NextSong')) \\\n",
    "    .groupBy('userID', 'period') \\\n",
    "    .agg({'period':'count'}) \\\n",
    "    .agg({'count(period)':'avg'}) \\\n",
    "    .show()"
   ]
  },
  {
   "cell_type": "code",
   "execution_count": 97,
   "id": "c435c54b",
   "metadata": {},
   "outputs": [
    {
     "data": {
      "text/plain": [
       "[Row(artist='Showaddywaddy', auth='Logged In', firstName='Kenneth', gender='M', itemInSession=112, lastName='Matthews', length=232.93342, level='paid', location='Charlotte-Concord-Gastonia, NC-SC', method='PUT', page='NextSong', registration=1509380319284, sessionId=5132, song='Christmas Tears Will Fall', status=200, ts=1513720872284, userAgent='\"Mozilla/5.0 (Windows NT 6.1) AppleWebKit/537.36 (KHTML, like Gecko) Chrome/36.0.1985.125 Safari/537.36\"', userId='1046'),\n",
       " Row(artist='Lily Allen', auth='Logged In', firstName='Elizabeth', gender='F', itemInSession=7, lastName='Chase', length=195.23873, level='free', location='Shreveport-Bossier City, LA', method='PUT', page='NextSong', registration=1512718541284, sessionId=5027, song='Cheryl Tweedy', status=200, ts=1513720878284, userAgent='\"Mozilla/5.0 (Windows NT 6.1) AppleWebKit/537.36 (KHTML, like Gecko) Chrome/36.0.1985.143 Safari/537.36\"', userId='1000')]"
      ]
     },
     "execution_count": 97,
     "metadata": {},
     "output_type": "execute_result"
    }
   ],
   "source": [
    "user_log.head(2)"
   ]
  },
  {
   "cell_type": "code",
   "execution_count": 96,
   "id": "51cb6c42",
   "metadata": {},
   "outputs": [
    {
     "name": "stdout",
     "output_type": "stream",
     "text": [
      "+--------------------+\n",
      "|avg_songs_per_period|\n",
      "+--------------------+\n",
      "|  6.9558333333333335|\n",
      "+--------------------+\n",
      "\n"
     ]
    }
   ],
   "source": [
    "# Calculate the period using a window function (SQL)\n",
    "user_log_with_period = spark.sql(\"\"\"\n",
    "    SELECT *,\n",
    "           SUM(CASE WHEN page = 'Home' THEN 1 ELSE 0 END) OVER (PARTITION BY userID ORDER BY ts ASC) AS period\n",
    "    FROM user_log\n",
    "\"\"\")\n",
    "\n",
    "# Filter only 'NextSong' events (SQL)\n",
    "next_song_logs = user_log_with_period.filter(\"page = 'NextSong'\")\n",
    "\n",
    "# Group by 'userID' and 'period', and count 'NextSong' events\n",
    "result = next_song_logs.groupBy(\"userID\", \"period\").count()\n",
    "\n",
    "# Calculate the average of songs listened during each period\n",
    "overall_avg_result = result.groupBy().agg(\n",
    "    avg(\"count\").alias(\"avg_songs_per_period\")\n",
    ")\n",
    "\n",
    "# Show the result\n",
    "overall_avg_result.show()"
   ]
  },
  {
   "cell_type": "code",
   "execution_count": 103,
   "id": "afbb99d0",
   "metadata": {},
   "outputs": [
    {
     "name": "stdout",
     "output_type": "stream",
     "text": [
      "root\n",
      " |-- artist: string (nullable = true)\n",
      " |-- auth: string (nullable = true)\n",
      " |-- firstName: string (nullable = true)\n",
      " |-- gender: string (nullable = true)\n",
      " |-- itemInSession: long (nullable = true)\n",
      " |-- lastName: string (nullable = true)\n",
      " |-- length: double (nullable = true)\n",
      " |-- level: string (nullable = true)\n",
      " |-- location: string (nullable = true)\n",
      " |-- method: string (nullable = true)\n",
      " |-- page: string (nullable = true)\n",
      " |-- registration: long (nullable = true)\n",
      " |-- sessionId: long (nullable = true)\n",
      " |-- song: string (nullable = true)\n",
      " |-- status: long (nullable = true)\n",
      " |-- ts: long (nullable = true)\n",
      " |-- userAgent: string (nullable = true)\n",
      " |-- userId: string (nullable = true)\n",
      " |-- period: long (nullable = true)\n",
      "\n"
     ]
    }
   ],
   "source": [
    "\n",
    "user_log_with_period.printSchema()"
   ]
  },
  {
   "cell_type": "markdown",
   "id": "5a2b0593",
   "metadata": {},
   "source": [
    "## Window function"
   ]
  },
  {
   "cell_type": "code",
   "execution_count": 108,
   "id": "1f0401b0",
   "metadata": {},
   "outputs": [
    {
     "name": "stderr",
     "output_type": "stream",
     "text": [
      "23/08/10 10:02:10 WARN SparkSession: Using an existing Spark session; only runtime SQL configurations will take effect.\n",
      "[Stage 275:>                                                        (0 + 8) / 8]\r"
     ]
    },
    {
     "name": "stdout",
     "output_type": "stream",
     "text": [
      "+------+---+-----+-----------+\n",
      "|userID| ts|value|rolling_sum|\n",
      "+------+---+-----+-----------+\n",
      "| user1|100|   10|         10|\n",
      "| user1|200|   15|         25|\n",
      "| user1|300|    5|         30|\n",
      "| user2|150|    7|          7|\n",
      "| user2|250|   12|         19|\n",
      "| user2|350|    8|         27|\n",
      "+------+---+-----+-----------+\n",
      "\n"
     ]
    },
    {
     "name": "stderr",
     "output_type": "stream",
     "text": [
      "                                                                                \r"
     ]
    }
   ],
   "source": [
    "from pyspark.sql import SparkSession\n",
    "from pyspark.sql import Row\n",
    "\n",
    "# Create a Spark session\n",
    "spark = SparkSession.builder.appName(\"WindowExample\").getOrCreate()\n",
    "\n",
    "# Sample data\n",
    "data = [\n",
    "    Row(userID='user1', ts=100, value=10),\n",
    "    Row(userID='user1', ts=200, value=15),\n",
    "    Row(userID='user1', ts=300, value=5),\n",
    "    Row(userID='user2', ts=150, value=7),\n",
    "    Row(userID='user2', ts=250, value=12),\n",
    "    Row(userID='user2', ts=350, value=8),\n",
    "]\n",
    "\n",
    "# Create a DataFrame\n",
    "df = spark.createDataFrame(data)\n",
    "\n",
    "\n",
    "from pyspark.sql.window import Window\n",
    "from pyspark.sql.functions import col, sum\n",
    "\n",
    "# Define the window specification\n",
    "window_spec = Window.partitionBy('userID').orderBy(col('ts').asc())\n",
    "\n",
    "# Add a new column with the rolling sum using the window specification\n",
    "df_with_window = df.withColumn('rolling_sum', sum(col('value')).over(window_spec))\n",
    "df_with_window.show()\n"
   ]
  },
  {
   "cell_type": "code",
   "execution_count": 109,
   "id": "fedc1c7f",
   "metadata": {},
   "outputs": [
    {
     "name": "stdout",
     "output_type": "stream",
     "text": [
      "+------+---+-----+-----------+\n",
      "|userID| ts|value|rolling_sum|\n",
      "+------+---+-----+-----------+\n",
      "| user1|100|   10|         10|\n",
      "| user1|200|   15|         25|\n",
      "| user1|300|    5|         30|\n",
      "| user2|150|    7|          7|\n",
      "| user2|250|   12|         19|\n",
      "| user2|350|    8|         27|\n",
      "+------+---+-----+-----------+\n",
      "\n"
     ]
    }
   ],
   "source": [
    "from pyspark.sql import SparkSession\n",
    "\n",
    "# Create a Spark session\n",
    "spark = SparkSession.builder.appName(\"WindowExample\").getOrCreate()\n",
    "\n",
    "# Sample data\n",
    "data = [\n",
    "    (\"user1\", 100, 10),\n",
    "    (\"user1\", 200, 15),\n",
    "    (\"user1\", 300, 5),\n",
    "    (\"user2\", 150, 7),\n",
    "    (\"user2\", 250, 12),\n",
    "    (\"user2\", 350, 8),\n",
    "]\n",
    "\n",
    "# Define the schema\n",
    "schema = [\"userID\", \"ts\", \"value\"]\n",
    "\n",
    "# Create a DataFrame\n",
    "df = spark.createDataFrame(data, schema)\n",
    "\n",
    "# Register the DataFrame as a temporary view\n",
    "df.createOrReplaceTempView(\"df_table\")\n",
    "from pyspark.sql import functions as F\n",
    "\n",
    "# Add a new column with the rolling sum using SQL window function\n",
    "df_with_window_sql = spark.sql(\"\"\"\n",
    "    SELECT *,\n",
    "           SUM(value) OVER (PARTITION BY userID ORDER BY ts ASC) AS rolling_sum\n",
    "    FROM df_table\n",
    "\"\"\")\n",
    "\n",
    "df_with_window_sql.show()\n"
   ]
  },
  {
   "cell_type": "code",
   "execution_count": 111,
   "id": "2cc8b9b5",
   "metadata": {},
   "outputs": [
    {
     "name": "stdout",
     "output_type": "stream",
     "text": [
      "+------+---+-----+----+\n",
      "|userID| ts|value|flag|\n",
      "+------+---+-----+----+\n",
      "| user1|100|   10|   1|\n",
      "| user1|200|   15|   1|\n",
      "| user1|300|    5|   1|\n",
      "| user2|150|    7|   0|\n",
      "| user2|250|   12|   0|\n",
      "| user2|350|    8|   0|\n",
      "+------+---+-----+----+\n",
      "\n"
     ]
    }
   ],
   "source": [
    "df_with_flag = spark.sql(\"\"\"\n",
    "    SELECT *,\n",
    "           CASE WHEN userID = 'user1' THEN 1 ELSE 0 END AS flag\n",
    "    FROM df_table\n",
    "\"\"\")\n",
    "\n",
    "df_with_flag.show()"
   ]
  },
  {
   "cell_type": "code",
   "execution_count": 15,
   "id": "b1b0563f",
   "metadata": {},
   "outputs": [
    {
     "name": "stdout",
     "output_type": "stream",
     "text": [
      "Save Settings\n",
      "Error\n",
      "Downgrade\n",
      "Settings\n",
      "Submit Upgrade\n",
      "Logout\n",
      "NextSong\n",
      "Upgrade\n",
      "Submit Downgrade\n"
     ]
    }
   ],
   "source": [
    "# get a list of possible pages that could be visited\n",
    "all_pages_df = user_log.select('page').dropDuplicates()\n",
    "\n",
    "# find values in all_pages that are not in blank_pages\n",
    "# these are the pages that the blank user did not go to\n",
    "# NOTE WE SHOULD NOT USE .collect() on large datasets (>100 MB)\n",
    "for row in set(all_pages_df.collect()) - set(blank_pages_df.collect()):\n",
    "    print(row.page)"
   ]
  },
  {
   "cell_type": "code",
   "execution_count": null,
   "id": "6ddd511d",
   "metadata": {},
   "outputs": [],
   "source": []
  }
 ],
 "metadata": {
  "kernelspec": {
   "display_name": "Python 3 (ipykernel)",
   "language": "python",
   "name": "python3"
  },
  "language_info": {
   "codemirror_mode": {
    "name": "ipython",
    "version": 3
   },
   "file_extension": ".py",
   "mimetype": "text/x-python",
   "name": "python",
   "nbconvert_exporter": "python",
   "pygments_lexer": "ipython3",
   "version": "3.10.9"
  }
 },
 "nbformat": 4,
 "nbformat_minor": 5
}
